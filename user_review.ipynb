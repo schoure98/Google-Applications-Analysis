{
 "cells": [
  {
   "cell_type": "code",
   "execution_count": 15,
   "metadata": {},
   "outputs": [],
   "source": [
    "#importing modules\n",
    "import pandas as pd\n",
    "import numpy as np"
   ]
  },
  {
   "cell_type": "code",
   "execution_count": 16,
   "metadata": {},
   "outputs": [],
   "source": [
    "#read csv data\n",
    "user_review_data = pd.read_csv(\"./googleplaystore_user_reviews.csv\", index_col=None)\n",
    "\n",
    "#setting seed for reproducibility\n",
    "np.random.seed(0)"
   ]
  },
  {
   "cell_type": "code",
   "execution_count": 17,
   "metadata": {},
   "outputs": [
    {
     "data": {
      "text/plain": [
       "App                        object\n",
       "Translated_Review          object\n",
       "Sentiment                  object\n",
       "Sentiment_Polarity        float64\n",
       "Sentiment_Subjectivity    float64\n",
       "dtype: object"
      ]
     },
     "execution_count": 17,
     "metadata": {},
     "output_type": "execute_result"
    }
   ],
   "source": [
    "#creating a data frame for data\n",
    "df_user_review = pd.DataFrame(user_review_data)\n",
    "df_user_review = df_user_review.dropna()\n",
    "df_user_review.dtypes"
   ]
  },
  {
   "cell_type": "code",
   "execution_count": 18,
   "metadata": {},
   "outputs": [],
   "source": [
    "#setting the index\n",
    "df_user_review['review_app_id'] = range(1, len(df_user_review) + 1)\n",
    "df_user_review = df_user_review.set_index('review_app_id')"
   ]
  },
  {
   "cell_type": "code",
   "execution_count": 19,
   "metadata": {},
   "outputs": [
    {
     "data": {
      "text/html": [
       "<div>\n",
       "<style scoped>\n",
       "    .dataframe tbody tr th:only-of-type {\n",
       "        vertical-align: middle;\n",
       "    }\n",
       "\n",
       "    .dataframe tbody tr th {\n",
       "        vertical-align: top;\n",
       "    }\n",
       "\n",
       "    .dataframe thead th {\n",
       "        text-align: right;\n",
       "    }\n",
       "</style>\n",
       "<table border=\"1\" class=\"dataframe\">\n",
       "  <thead>\n",
       "    <tr style=\"text-align: right;\">\n",
       "      <th></th>\n",
       "      <th>app_name</th>\n",
       "      <th>user_reviews</th>\n",
       "    </tr>\n",
       "    <tr>\n",
       "      <th>review_app_id</th>\n",
       "      <th></th>\n",
       "      <th></th>\n",
       "    </tr>\n",
       "  </thead>\n",
       "  <tbody>\n",
       "    <tr>\n",
       "      <th>37423</th>\n",
       "      <td>Housing-Real Estate &amp; Property</td>\n",
       "      <td>Most ads older many agents ..not much owner po...</td>\n",
       "    </tr>\n",
       "    <tr>\n",
       "      <th>37424</th>\n",
       "      <td>Housing-Real Estate &amp; Property</td>\n",
       "      <td>If photos posted portal load, fit purpose. I'm...</td>\n",
       "    </tr>\n",
       "    <tr>\n",
       "      <th>37425</th>\n",
       "      <td>Housing-Real Estate &amp; Property</td>\n",
       "      <td>Dumb app, I wanted post property rent give opt...</td>\n",
       "    </tr>\n",
       "    <tr>\n",
       "      <th>37426</th>\n",
       "      <td>Housing-Real Estate &amp; Property</td>\n",
       "      <td>I property business got link SMS happy perform...</td>\n",
       "    </tr>\n",
       "    <tr>\n",
       "      <th>37427</th>\n",
       "      <td>Housing-Real Estate &amp; Property</td>\n",
       "      <td>Useless app, I searched flats kondapur, Hydera...</td>\n",
       "    </tr>\n",
       "  </tbody>\n",
       "</table>\n",
       "</div>"
      ],
      "text/plain": [
       "                                     app_name  \\\n",
       "review_app_id                                   \n",
       "37423          Housing-Real Estate & Property   \n",
       "37424          Housing-Real Estate & Property   \n",
       "37425          Housing-Real Estate & Property   \n",
       "37426          Housing-Real Estate & Property   \n",
       "37427          Housing-Real Estate & Property   \n",
       "\n",
       "                                                    user_reviews  \n",
       "review_app_id                                                     \n",
       "37423          Most ads older many agents ..not much owner po...  \n",
       "37424          If photos posted portal load, fit purpose. I'm...  \n",
       "37425          Dumb app, I wanted post property rent give opt...  \n",
       "37426          I property business got link SMS happy perform...  \n",
       "37427          Useless app, I searched flats kondapur, Hydera...  "
      ]
     },
     "execution_count": 19,
     "metadata": {},
     "output_type": "execute_result"
    }
   ],
   "source": [
    "#creating a new dataframe for reviews table\n",
    "column_names = ['app_name','user_reviews']\n",
    "reviews = df_user_review[['App','Translated_Review']]\n",
    "df_reviews = pd.DataFrame(reviews)\n",
    "df_reviews.columns = column_names\n",
    "df_reviews.dropna()\n",
    "df_reviews.tail()"
   ]
  },
  {
   "cell_type": "code",
   "execution_count": 20,
   "metadata": {},
   "outputs": [
    {
     "data": {
      "text/html": [
       "<div>\n",
       "<style scoped>\n",
       "    .dataframe tbody tr th:only-of-type {\n",
       "        vertical-align: middle;\n",
       "    }\n",
       "\n",
       "    .dataframe tbody tr th {\n",
       "        vertical-align: top;\n",
       "    }\n",
       "\n",
       "    .dataframe thead th {\n",
       "        text-align: right;\n",
       "    }\n",
       "</style>\n",
       "<table border=\"1\" class=\"dataframe\">\n",
       "  <thead>\n",
       "    <tr style=\"text-align: right;\">\n",
       "      <th></th>\n",
       "      <th>app_name</th>\n",
       "      <th>sentiment</th>\n",
       "      <th>polarity</th>\n",
       "      <th>subjectivity</th>\n",
       "    </tr>\n",
       "    <tr>\n",
       "      <th>review_app_id</th>\n",
       "      <th></th>\n",
       "      <th></th>\n",
       "      <th></th>\n",
       "      <th></th>\n",
       "    </tr>\n",
       "  </thead>\n",
       "  <tbody>\n",
       "    <tr>\n",
       "      <th>37423</th>\n",
       "      <td>Housing-Real Estate &amp; Property</td>\n",
       "      <td>Positive</td>\n",
       "      <td>0.173333</td>\n",
       "      <td>0.486667</td>\n",
       "    </tr>\n",
       "    <tr>\n",
       "      <th>37424</th>\n",
       "      <td>Housing-Real Estate &amp; Property</td>\n",
       "      <td>Positive</td>\n",
       "      <td>0.225000</td>\n",
       "      <td>0.447222</td>\n",
       "    </tr>\n",
       "    <tr>\n",
       "      <th>37425</th>\n",
       "      <td>Housing-Real Estate &amp; Property</td>\n",
       "      <td>Negative</td>\n",
       "      <td>-0.287500</td>\n",
       "      <td>0.250000</td>\n",
       "    </tr>\n",
       "    <tr>\n",
       "      <th>37426</th>\n",
       "      <td>Housing-Real Estate &amp; Property</td>\n",
       "      <td>Positive</td>\n",
       "      <td>0.800000</td>\n",
       "      <td>1.000000</td>\n",
       "    </tr>\n",
       "    <tr>\n",
       "      <th>37427</th>\n",
       "      <td>Housing-Real Estate &amp; Property</td>\n",
       "      <td>Negative</td>\n",
       "      <td>-0.316667</td>\n",
       "      <td>0.400000</td>\n",
       "    </tr>\n",
       "  </tbody>\n",
       "</table>\n",
       "</div>"
      ],
      "text/plain": [
       "                                     app_name sentiment  polarity  \\\n",
       "review_app_id                                                       \n",
       "37423          Housing-Real Estate & Property  Positive  0.173333   \n",
       "37424          Housing-Real Estate & Property  Positive  0.225000   \n",
       "37425          Housing-Real Estate & Property  Negative -0.287500   \n",
       "37426          Housing-Real Estate & Property  Positive  0.800000   \n",
       "37427          Housing-Real Estate & Property  Negative -0.316667   \n",
       "\n",
       "               subjectivity  \n",
       "review_app_id                \n",
       "37423              0.486667  \n",
       "37424              0.447222  \n",
       "37425              0.250000  \n",
       "37426              1.000000  \n",
       "37427              0.400000  "
      ]
     },
     "execution_count": 20,
     "metadata": {},
     "output_type": "execute_result"
    }
   ],
   "source": [
    "#creating a new dataframe for sentiments table\n",
    "column_names = ['app_name','sentiment', 'polarity', 'subjectivity']\n",
    "sentiments = df_user_review[['App','Sentiment','Sentiment_Polarity','Sentiment_Subjectivity']]\n",
    "df_sentiment = pd.DataFrame(sentiments)\n",
    "df_sentiment.columns = column_names\n",
    "df_sentiment = df_sentiment.dropna()\n",
    "\n",
    "df_sentiment.tail()"
   ]
  },
  {
   "cell_type": "code",
   "execution_count": 21,
   "metadata": {},
   "outputs": [
    {
     "name": "stdout",
     "output_type": "stream",
     "text": [
      "Connection established to:  ('PostgreSQL 14.5 on aarch64-apple-darwin20.6.0, compiled by Apple clang version 12.0.5 (clang-1205.0.22.9), 64-bit',)\n"
     ]
    }
   ],
   "source": [
    "#python database connectivity\n",
    "import psycopg2\n",
    "\n",
    "#establishing the connection\n",
    "conn = psycopg2.connect(\n",
    "   database=\"shreyachoure\", user='shreyachoure', password='root', host='127.0.0.1', port= '5432'\n",
    ")\n",
    "#Creating a cursor object using the cursor() method\n",
    "cursor = conn.cursor()\n",
    "\n",
    "#Executing an MYSQL function using the execute() method\n",
    "cursor.execute(\"select version()\")\n",
    "\n",
    "# Fetch a single row using fetchone() method.\n",
    "data = cursor.fetchone()\n",
    "print(\"Connection established to: \",data)\n",
    "\n",
    "#Closing the connection\n",
    "conn.close()"
   ]
  },
  {
   "cell_type": "code",
   "execution_count": 22,
   "metadata": {},
   "outputs": [],
   "source": [
    "#Inserting data from python to psql table 'Applications'\n",
    "from sqlalchemy import create_engine\n",
    "\n",
    "#creating engine\n",
    "engine = create_engine('postgresql://shreyachoure@127.0.0.1:5432/shreyachoure')\n",
    "\n",
    "from sqlalchemy.orm import Session\n",
    "with Session(engine) as session:\n",
    "    engine.execute(\"DROP table IF EXISTS reviews\")\n",
    "    engine.execute(\"DROP table IF EXISTS sentiments\")\n",
    "   \n",
    "\n",
    "    df_reviews.to_sql('reviews', con=engine)\n",
    "    df_sentiment.to_sql('sentiments', con=engine)\n",
    "\n",
    "    session.commit()"
   ]
  }
 ],
 "metadata": {
  "kernelspec": {
   "display_name": "Python 3.9.6 64-bit",
   "language": "python",
   "name": "python3"
  },
  "language_info": {
   "codemirror_mode": {
    "name": "ipython",
    "version": 3
   },
   "file_extension": ".py",
   "mimetype": "text/x-python",
   "name": "python",
   "nbconvert_exporter": "python",
   "pygments_lexer": "ipython3",
   "version": "3.9.6"
  },
  "orig_nbformat": 4,
  "vscode": {
   "interpreter": {
    "hash": "31f2aee4e71d21fbe5cf8b01ff0e069b9275f58929596ceb00d14d90e3e16cd6"
   }
  }
 },
 "nbformat": 4,
 "nbformat_minor": 2
}
